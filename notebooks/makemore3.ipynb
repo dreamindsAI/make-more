{
 "cells": [
  {
   "cell_type": "code",
   "execution_count": 22,
   "id": "d2acf7e2",
   "metadata": {},
   "outputs": [],
   "source": [
    "import torch\n",
    "import torch.nn.functional as F\n",
    "import matplotlib.pyplot as plt\n",
    "%matplotlib inline"
   ]
  },
  {
   "cell_type": "code",
   "execution_count": 23,
   "id": "b03f8213",
   "metadata": {},
   "outputs": [
    {
     "data": {
      "text/plain": [
       "['emma', 'olivia', 'ava']"
      ]
     },
     "execution_count": 23,
     "metadata": {},
     "output_type": "execute_result"
    }
   ],
   "source": [
    "words = open('names.txt', 'r').read().split()\n",
    "words[:3]"
   ]
  },
  {
   "cell_type": "code",
   "execution_count": 24,
   "id": "2a305f11",
   "metadata": {},
   "outputs": [
    {
     "data": {
      "text/plain": [
       "32033"
      ]
     },
     "execution_count": 24,
     "metadata": {},
     "output_type": "execute_result"
    }
   ],
   "source": [
    "len(words)"
   ]
  },
  {
   "cell_type": "code",
   "execution_count": 25,
   "id": "83db1a74",
   "metadata": {},
   "outputs": [],
   "source": [
    "# Mapping\n",
    "\n",
    "stoi = {s:i+1 for i,s in enumerate(sorted(list(set(''.join(words)))))}\n",
    "stoi['.'] = 0\n",
    "\n",
    "itos = {i:s for s,i in stoi.items()}\n",
    "vocab_size = len(stoi)"
   ]
  },
  {
   "cell_type": "code",
   "execution_count": 26,
   "id": "d7873d1d",
   "metadata": {},
   "outputs": [
    {
     "name": "stdout",
     "output_type": "stream",
     "text": [
      "torch.Size([182625, 3]) torch.Size([182625])\n",
      "torch.Size([22655, 3]) torch.Size([22655])\n",
      "torch.Size([22866, 3]) torch.Size([22866])\n"
     ]
    }
   ],
   "source": [
    "# build the dataset\n",
    "\n",
    "def build_dataset(words: list[str]):\n",
    "    block_size = 3\n",
    "    X, Y = [], []\n",
    "\n",
    "    for w in words:\n",
    "        context = [0] * block_size\n",
    "        for chr in w + '.':\n",
    "            X.append(context)\n",
    "            ichr = stoi[chr]\n",
    "            Y.append(ichr)\n",
    "            context = context[1:] + [ichr]\n",
    "\n",
    "    X = torch.tensor(X)\n",
    "    Y = torch.tensor(Y)\n",
    "    print(X.shape, Y.shape)\n",
    "    return X, Y\n",
    "\n",
    "# Train, Val/Dev, Test split\n",
    "import random\n",
    "random.seed(42)\n",
    "random.shuffle(words)\n",
    "n1 = int(0.8*len(words))\n",
    "n2 = int(0.9*len(words))\n",
    "\n",
    "Xtr, Ytr = build_dataset(words[:n1])\n",
    "Xdev, Ydev = build_dataset(words[n1:n2])\n",
    "Xtest, Ytest = build_dataset(words[n2:])\n",
    "\n",
    "    "
   ]
  },
  {
   "cell_type": "code",
   "execution_count": 27,
   "id": "c91cfac3",
   "metadata": {},
   "outputs": [
    {
     "name": "stdout",
     "output_type": "stream",
     "text": [
      "Total number of parameters :  11897\n"
     ]
    }
   ],
   "source": [
    "# MLP parameters\n",
    "\n",
    "g = torch.Generator().manual_seed(2147483647)\n",
    "\n",
    "n_embedd = 10 # Embedding dim\n",
    "C = torch.randn((vocab_size, n_embedd), generator=g) # Lookup matrix for embedding\n",
    "block_size = 3\n",
    "\n",
    "n_hidden = 200\n",
    "\n",
    "# Layer 1\n",
    "W1 = torch.randn((n_embedd * block_size, n_hidden), generator=g)\n",
    "b1 = torch.randn(n_hidden, generator=g)\n",
    "\n",
    "# Layer 2\n",
    "W2 = torch.randn((n_hidden, vocab_size), generator=g)\n",
    "b2 = torch.randn(vocab_size, generator=g)\n",
    "\n",
    "parameters = [C, W1, b1, W2, b2]\n",
    "print(\"Total number of parameters : \", sum(p.nelement() for p in parameters))\n",
    "\n",
    "for p in parameters:\n",
    "    p.requires_grad = True\n",
    "\n"
   ]
  },
  {
   "cell_type": "code",
   "execution_count": 28,
   "id": "1e2ddb2d",
   "metadata": {},
   "outputs": [
    {
     "name": "stdout",
     "output_type": "stream",
     "text": [
      "      0 /   200000 :: 27.8817\n",
      "  10000 /   200000 :: 2.8138\n",
      "  20000 /   200000 :: 2.5218\n",
      "  30000 /   200000 :: 2.7874\n",
      "  40000 /   200000 :: 2.0334\n",
      "  50000 /   200000 :: 2.6237\n",
      "  60000 /   200000 :: 2.3289\n",
      "  70000 /   200000 :: 2.0826\n",
      "  80000 /   200000 :: 2.2784\n",
      "  90000 /   200000 :: 2.2252\n",
      " 100000 /   200000 :: 2.0428\n",
      " 110000 /   200000 :: 2.3121\n",
      " 120000 /   200000 :: 2.0570\n",
      " 130000 /   200000 :: 2.4546\n",
      " 140000 /   200000 :: 2.2233\n",
      " 150000 /   200000 :: 2.1551\n",
      " 160000 /   200000 :: 2.0597\n",
      " 170000 /   200000 :: 1.7981\n",
      " 180000 /   200000 :: 2.0194\n",
      " 190000 /   200000 :: 1.7459\n"
     ]
    }
   ],
   "source": [
    "# Training\n",
    "\n",
    "max_steps = 200000\n",
    "batch_size = 32\n",
    "lossi = [] # training loss in each step\n",
    "\n",
    "for i in range(max_steps):\n",
    "\n",
    "    # mini batch construct\n",
    "    ix = torch.randint(0, Xtr.shape[0], (batch_size,), generator=g)\n",
    "    Xb, Yb = Xtr[ix], Ytr[ix]\n",
    "\n",
    "    # forward pass\n",
    "    emb = C[Xb]\n",
    "    embcat = emb.view(emb.shape[0], -1)\n",
    "    hpreact = embcat @ W1 + b1\n",
    "    h = torch.tanh(hpreact) # hidden layer out\n",
    "    logits = h @ W2 + b2 # output layer\n",
    "\n",
    "    loss = F.cross_entropy(logits, Yb) #loss function\n",
    "\n",
    "    # backward pass\n",
    "    for p in parameters:\n",
    "        p.grad = None\n",
    "    \n",
    "    loss.backward()\n",
    "\n",
    "    # Update the parameters\n",
    "    lr = 0.1 if i < 100000 else 0.01\n",
    "    for p in parameters:\n",
    "        p.data += -lr * p.grad\n",
    "    \n",
    "    # track the stats\n",
    "    if i % 10000 == 0:\n",
    "        print(f'{i:7d} /  {max_steps:7d} :: {loss.item():.4f}')\n",
    "    \n",
    "    lossi.append(loss.log10().item())"
   ]
  },
  {
   "cell_type": "code",
   "execution_count": 29,
   "id": "cc0b2e49",
   "metadata": {},
   "outputs": [
    {
     "data": {
      "text/plain": [
       "[<matplotlib.lines.Line2D at 0x138b23b30>]"
      ]
     },
     "execution_count": 29,
     "metadata": {},
     "output_type": "execute_result"
    },
    {
     "data": {
      "image/png": "[encoded data removed]",
      "text/plain": [
       "<Figure size 640x480 with 1 Axes>"
      ]
     },
     "metadata": {},
     "output_type": "display_data"
    }
   ],
   "source": [
    "plt.plot(lossi)"
   ]
  },
  {
   "cell_type": "code",
   "execution_count": 34,
   "id": "e38b18d1",
   "metadata": {},
   "outputs": [
    {
     "name": "stdout",
     "output_type": "stream",
     "text": [
      "train  loss :  2.1267659664154053\n",
      "dev  loss :  2.1697638034820557\n",
      "test  loss :  2.1623899936676025\n"
     ]
    }
   ],
   "source": [
    "@torch.no_grad\n",
    "def split_loss(split):\n",
    "\n",
    "    x, y = {\n",
    "        'train' : (Xtr, Ytr),\n",
    "        'dev' : (Xdev, Ydev),\n",
    "        'test' : (Xtest, Ytest)\n",
    "    }[split]\n",
    "\n",
    "    emb = C[x]\n",
    "    embcat = emb.view(x.shape[0], -1)\n",
    "    h = torch.tanh(embcat @ W1 + b1)\n",
    "    logits = h @ W2 + b2\n",
    "    loss = F.cross_entropy(logits, y)\n",
    "    print(split, ' loss : ', loss.item())\n",
    "\n",
    "split_loss('train')\n",
    "split_loss('dev')\n",
    "split_loss('test')\n"
   ]
  },
  {
   "cell_type": "code",
   "execution_count": 41,
   "id": "c3e5bc68",
   "metadata": {},
   "outputs": [
    {
     "name": "stdout",
     "output_type": "stream",
     "text": [
      "carlah.\n",
      "amorie.\n",
      "khirmin.\n",
      "rey.\n",
      "cassanden.\n",
      "jazhubedah.\n",
      "sart.\n",
      "kaeli.\n",
      "nellara.\n",
      "chaiir.\n"
     ]
    }
   ],
   "source": [
    "g = torch.Generator().manual_seed(2147483647 + 10)\n",
    "\n",
    "def predict_ix(context):\n",
    "    emb = C[torch.tensor(context)]\n",
    "    embcat = emb.view(1, -1)\n",
    "    h = torch.tanh(embcat @ W1 + b1)\n",
    "    logits = h @ W2 + b2\n",
    "    probs = F.softmax(logits, dim=1)\n",
    "    ix = torch.multinomial(probs, 1, replacement=True, generator=g)\n",
    "    return ix.item()\n",
    "\n",
    "# Sample from the model\n",
    "\n",
    "for _ in range(10):\n",
    "\n",
    "    out = []\n",
    "    context = [0] * 3\n",
    "    while True:\n",
    "        ix = predict_ix(context)\n",
    "        out.append(ix)\n",
    "        context = context[1:] + [ix]\n",
    "\n",
    "        if ix == 0:\n",
    "            break\n",
    "    \n",
    "    print(''.join([itos[i] for i in out]))\n"
   ]
  },
  {
   "cell_type": "markdown",
   "id": "3b82685b",
   "metadata": {},
   "source": [
    "We can see the loss at very begining is very high around 27 and then in next step comes to around 3. If we think through about the loss at initialisation, the moidel is likely to predict any character next. So we expect a uniform probability of (1/27) for all characters."
   ]
  },
  {
   "cell_type": "code",
   "execution_count": 44,
   "id": "ce1b1f0c",
   "metadata": {},
   "outputs": [
    {
     "data": {
      "text/plain": [
       "3.295836925506592"
      ]
     },
     "execution_count": 44,
     "metadata": {},
     "output_type": "execute_result"
    }
   ],
   "source": [
    "loss = -torch.tensor((1/27)).log()\n",
    "loss.item()"
   ]
  },
  {
   "cell_type": "markdown",
   "id": "6b4a0763",
   "metadata": {},
   "source": [
    "## Scaling down weight"
   ]
  },
  {
   "cell_type": "code",
   "execution_count": 45,
   "id": "3290cb73",
   "metadata": {},
   "outputs": [
    {
     "name": "stdout",
     "output_type": "stream",
     "text": [
      "Total number of parameters :  11897\n",
      "      0 /   200000 :: 3.3221\n",
      "  10000 /   200000 :: 2.1900\n",
      "  20000 /   200000 :: 2.4196\n",
      "  30000 /   200000 :: 2.6067\n",
      "  40000 /   200000 :: 2.0601\n",
      "  50000 /   200000 :: 2.4988\n",
      "  60000 /   200000 :: 2.3902\n",
      "  70000 /   200000 :: 2.1344\n",
      "  80000 /   200000 :: 2.3369\n",
      "  90000 /   200000 :: 2.1299\n",
      " 100000 /   200000 :: 1.8329\n",
      " 110000 /   200000 :: 2.2053\n",
      " 120000 /   200000 :: 1.8540\n",
      " 130000 /   200000 :: 2.4566\n",
      " 140000 /   200000 :: 2.1879\n",
      " 150000 /   200000 :: 2.1118\n",
      " 160000 /   200000 :: 1.8956\n",
      " 170000 /   200000 :: 1.8644\n",
      " 180000 /   200000 :: 2.0326\n",
      " 190000 /   200000 :: 1.8417\n"
     ]
    },
    {
     "data": {
      "text/plain": [
       "[<matplotlib.lines.Line2D at 0x138f56030>]"
      ]
     },
     "execution_count": 45,
     "metadata": {},
     "output_type": "execute_result"
    },
    {
     "data": {
      "image/png": "[encoded data removed]",
      "text/plain": [
       "<Figure size 640x480 with 1 Axes>"
      ]
     },
     "metadata": {},
     "output_type": "display_data"
    }
   ],
   "source": [
    "# MLP parameters\n",
    "\n",
    "g = torch.Generator().manual_seed(2147483647)\n",
    "\n",
    "n_embedd = 10 # Embedding dim\n",
    "C = torch.randn((vocab_size, n_embedd), generator=g) # Lookup matrix for embedding\n",
    "block_size = 3\n",
    "\n",
    "n_hidden = 200\n",
    "\n",
    "# Layer 1\n",
    "W1 = torch.randn((n_embedd * block_size, n_hidden), generator=g)\n",
    "b1 = torch.randn(n_hidden, generator=g)\n",
    "\n",
    "# Layer 2\n",
    "W2 = torch.randn((n_hidden, vocab_size), generator=g) * 0.01 # We want logits to be close to zero. So scaling down weights and removing bias\n",
    "b2 = torch.randn(vocab_size, generator=g) * 0\n",
    "\n",
    "parameters = [C, W1, b1, W2, b2]\n",
    "print(\"Total number of parameters : \", sum(p.nelement() for p in parameters))\n",
    "\n",
    "for p in parameters:\n",
    "    p.requires_grad = True\n",
    "\n",
    "# Training\n",
    "\n",
    "max_steps = 200000\n",
    "batch_size = 32\n",
    "lossi = [] # training loss in each step\n",
    "\n",
    "for i in range(max_steps):\n",
    "\n",
    "    # mini batch construct\n",
    "    ix = torch.randint(0, Xtr.shape[0], (batch_size,), generator=g)\n",
    "    Xb, Yb = Xtr[ix], Ytr[ix]\n",
    "\n",
    "    # forward pass\n",
    "    emb = C[Xb]\n",
    "    embcat = emb.view(emb.shape[0], -1)\n",
    "    hpreact = embcat @ W1 + b1\n",
    "    h = torch.tanh(hpreact) # hidden layer out\n",
    "    logits = h @ W2 + b2 # output layer\n",
    "\n",
    "    loss = F.cross_entropy(logits, Yb) #loss function\n",
    "\n",
    "    # backward pass\n",
    "    for p in parameters:\n",
    "        p.grad = None\n",
    "    \n",
    "    loss.backward()\n",
    "\n",
    "    # Update the parameters\n",
    "    lr = 0.1 if i < 100000 else 0.01\n",
    "    for p in parameters:\n",
    "        p.data += -lr * p.grad\n",
    "    \n",
    "    # track the stats\n",
    "    if i % 10000 == 0:\n",
    "        print(f'{i:7d} /  {max_steps:7d} :: {loss.item():.4f}')\n",
    "    \n",
    "    lossi.append(loss.log10().item())\n",
    "\n",
    "\n",
    "plt.plot(lossi)"
   ]
  },
  {
   "cell_type": "markdown",
   "id": "c9bca059",
   "metadata": {},
   "source": [
    "Now the initial loss has come down to 3 initialy, and the hockey stick curve has changed.\n",
    "\n",
    "We might have get away with logits, but the hidden state initialisation is still might not be optimised. Let's have a look at the values of hidden state in first iteration."
   ]
  },
  {
   "cell_type": "code",
   "execution_count": 46,
   "id": "54221952",
   "metadata": {},
   "outputs": [
    {
     "name": "stdout",
     "output_type": "stream",
     "text": [
      "Total number of parameters :  11897\n",
      "      0 /   200000 :: 3.3221\n"
     ]
    }
   ],
   "source": [
    "# MLP parameters\n",
    "\n",
    "g = torch.Generator().manual_seed(2147483647)\n",
    "\n",
    "n_embedd = 10 # Embedding dim\n",
    "C = torch.randn((vocab_size, n_embedd), generator=g) # Lookup matrix for embedding\n",
    "block_size = 3\n",
    "\n",
    "n_hidden = 200\n",
    "\n",
    "# Layer 1\n",
    "W1 = torch.randn((n_embedd * block_size, n_hidden), generator=g)\n",
    "b1 = torch.randn(n_hidden, generator=g)\n",
    "\n",
    "# Layer 2\n",
    "W2 = torch.randn((n_hidden, vocab_size), generator=g) * 0.01 # We want logits to be close to zero. So scaling down weights and removing bias\n",
    "b2 = torch.randn(vocab_size, generator=g) * 0\n",
    "\n",
    "parameters = [C, W1, b1, W2, b2]\n",
    "print(\"Total number of parameters : \", sum(p.nelement() for p in parameters))\n",
    "\n",
    "for p in parameters:\n",
    "    p.requires_grad = True\n",
    "\n",
    "# Training\n",
    "\n",
    "max_steps = 200000\n",
    "batch_size = 32\n",
    "lossi = [] # training loss in each step\n",
    "\n",
    "for i in range(max_steps):\n",
    "\n",
    "    # mini batch construct\n",
    "    ix = torch.randint(0, Xtr.shape[0], (batch_size,), generator=g)\n",
    "    Xb, Yb = Xtr[ix], Ytr[ix]\n",
    "\n",
    "    # forward pass\n",
    "    emb = C[Xb]\n",
    "    embcat = emb.view(emb.shape[0], -1)\n",
    "    hpreact = embcat @ W1 + b1\n",
    "    h = torch.tanh(hpreact) # hidden layer out\n",
    "    logits = h @ W2 + b2 # output layer\n",
    "\n",
    "    loss = F.cross_entropy(logits, Yb) #loss function\n",
    "\n",
    "    # backward pass\n",
    "    for p in parameters:\n",
    "        p.grad = None\n",
    "    \n",
    "    loss.backward()\n",
    "\n",
    "    # Update the parameters\n",
    "    lr = 0.1 if i < 100000 else 0.01\n",
    "    for p in parameters:\n",
    "        p.data += -lr * p.grad\n",
    "    \n",
    "    # track the stats\n",
    "    if i % 10000 == 0:\n",
    "        print(f'{i:7d} /  {max_steps:7d} :: {loss.item():.4f}')\n",
    "    \n",
    "    break"
   ]
  },
  {
   "cell_type": "code",
   "execution_count": 51,
   "id": "76bc5b70",
   "metadata": {},
   "outputs": [
    {
     "data": {
      "image/png": "[encoded data removed]",
      "text/plain": [
       "<Figure size 640x480 with 1 Axes>"
      ]
     },
     "metadata": {},
     "output_type": "display_data"
    }
   ],
   "source": [
    "plt.hist(h.view(-1).tolist(), bins=50);"
   ]
  },
  {
   "cell_type": "markdown",
   "id": "27409fda",
   "metadata": {},
   "source": [
    "A lot of activation are in -1 and 1, which we dont want. Why?\n",
    "if tanh(x) = t, then\n",
    "d/dx (tanh(x)) = 1 - t**2, if t takes values 1 and -1, then d/dx -> 0\n",
    "\n",
    "When we update the parameters with grad, d/dx * grad, this would also be 0, No updation happens at these neurons, which is not want we want."
   ]
  },
  {
   "cell_type": "code",
   "execution_count": 52,
   "id": "caf2d8b9",
   "metadata": {},
   "outputs": [
    {
     "data": {
      "image/png": "[encoded data removed]",
      "text/plain": [
       "<Figure size 640x480 with 1 Axes>"
      ]
     },
     "metadata": {},
     "output_type": "display_data"
    }
   ],
   "source": [
    "plt.hist(hpreact.view(-1).tolist(), bins=50);"
   ]
  },
  {
   "cell_type": "markdown",
   "id": "791740fd",
   "metadata": {},
   "source": [
    "A lot of these takes extreme values"
   ]
  },
  {
   "cell_type": "code",
   "execution_count": 54,
   "id": "976489d7",
   "metadata": {},
   "outputs": [
    {
     "data": {
      "image/png": "[encoded data removed]",
      "text/plain": [
       "<Figure size 2000x1000 with 1 Axes>"
      ]
     },
     "metadata": {},
     "output_type": "display_data"
    }
   ],
   "source": [
    "plt.figure(figsize=(20, 10))\n",
    "plt.imshow(h.abs() > 0.99, cmap='gray', interpolation='nearest');"
   ]
  },
  {
   "cell_type": "markdown",
   "id": "6f0cb5e2",
   "metadata": {},
   "source": [
    "The which space represent the activations in tail region, where the gradient is killed. There are alot of these. If there is a column of white across all neurons, then thats a dead neuron. It doesn't learn anything.\n",
    "\n",
    "Lets reduce W1 and b1"
   ]
  },
  {
   "cell_type": "code",
   "execution_count": 55,
   "id": "48188aab",
   "metadata": {},
   "outputs": [
    {
     "name": "stdout",
     "output_type": "stream",
     "text": [
      "Total number of parameters :  11897\n",
      "      0 /   200000 :: 3.3069\n"
     ]
    }
   ],
   "source": [
    "# MLP parameters\n",
    "\n",
    "g = torch.Generator().manual_seed(2147483647)\n",
    "\n",
    "n_embedd = 10 # Embedding dim\n",
    "C = torch.randn((vocab_size, n_embedd), generator=g) # Lookup matrix for embedding\n",
    "block_size = 3\n",
    "\n",
    "n_hidden = 200\n",
    "\n",
    "# Layer 1\n",
    "W1 = torch.randn((n_embedd * block_size, n_hidden), generator=g) * 0.1\n",
    "b1 = torch.randn(n_hidden, generator=g) * 0.01\n",
    "\n",
    "# Layer 2\n",
    "W2 = torch.randn((n_hidden, vocab_size), generator=g) * 0.01 # We want logits to be close to zero. So scaling down weights and removing bias\n",
    "b2 = torch.randn(vocab_size, generator=g) * 0\n",
    "\n",
    "parameters = [C, W1, b1, W2, b2]\n",
    "print(\"Total number of parameters : \", sum(p.nelement() for p in parameters))\n",
    "\n",
    "for p in parameters:\n",
    "    p.requires_grad = True\n",
    "\n",
    "# Training\n",
    "\n",
    "max_steps = 200000\n",
    "batch_size = 32\n",
    "lossi = [] # training loss in each step\n",
    "\n",
    "for i in range(max_steps):\n",
    "\n",
    "    # mini batch construct\n",
    "    ix = torch.randint(0, Xtr.shape[0], (batch_size,), generator=g)\n",
    "    Xb, Yb = Xtr[ix], Ytr[ix]\n",
    "\n",
    "    # forward pass\n",
    "    emb = C[Xb]\n",
    "    embcat = emb.view(emb.shape[0], -1)\n",
    "    hpreact = embcat @ W1 + b1\n",
    "    h = torch.tanh(hpreact) # hidden layer out\n",
    "    logits = h @ W2 + b2 # output layer\n",
    "\n",
    "    loss = F.cross_entropy(logits, Yb) #loss function\n",
    "\n",
    "    # backward pass\n",
    "    for p in parameters:\n",
    "        p.grad = None\n",
    "    \n",
    "    loss.backward()\n",
    "\n",
    "    # Update the parameters\n",
    "    lr = 0.1 if i < 100000 else 0.01\n",
    "    for p in parameters:\n",
    "        p.data += -lr * p.grad\n",
    "    \n",
    "    # track the stats\n",
    "    if i % 10000 == 0:\n",
    "        print(f'{i:7d} /  {max_steps:7d} :: {loss.item():.4f}')\n",
    "    \n",
    "    break"
   ]
  },
  {
   "cell_type": "code",
   "execution_count": 56,
   "id": "fd44135e",
   "metadata": {},
   "outputs": [
    {
     "data": {
      "image/png": "[encoded data removed]",
      "text/plain": [
       "<Figure size 640x480 with 1 Axes>"
      ]
     },
     "metadata": {},
     "output_type": "display_data"
    }
   ],
   "source": [
    "plt.hist(h.view(-1).tolist(), bins=50);"
   ]
  },
  {
   "cell_type": "code",
   "execution_count": 57,
   "id": "795e7b97",
   "metadata": {},
   "outputs": [
    {
     "data": {
      "image/png": "[encoded data removed]",
      "text/plain": [
       "<Figure size 640x480 with 1 Axes>"
      ]
     },
     "metadata": {},
     "output_type": "display_data"
    }
   ],
   "source": [
    "plt.hist(hpreact.view(-1).tolist(), bins=50);"
   ]
  },
  {
   "cell_type": "code",
   "execution_count": 58,
   "id": "a491b343",
   "metadata": {},
   "outputs": [
    {
     "data": {
      "image/png": "[encoded data removed]",
      "text/plain": [
       "<Figure size 2000x1000 with 1 Axes>"
      ]
     },
     "metadata": {},
     "output_type": "display_data"
    }
   ],
   "source": [
    "plt.figure(figsize=(20, 10))\n",
    "plt.imshow(h.abs() > 0.99, cmap='gray', interpolation='nearest');"
   ]
  },
  {
   "cell_type": "code",
   "execution_count": 59,
   "id": "9ab94545",
   "metadata": {},
   "outputs": [
    {
     "name": "stdout",
     "output_type": "stream",
     "text": [
      "Total number of parameters :  11897\n",
      "      0 /   200000 :: 3.3069\n",
      "  10000 /   200000 :: 2.1900\n",
      "  20000 /   200000 :: 2.2707\n",
      "  30000 /   200000 :: 2.4296\n",
      "  40000 /   200000 :: 1.9041\n",
      "  50000 /   200000 :: 2.3865\n",
      "  60000 /   200000 :: 2.3392\n",
      "  70000 /   200000 :: 2.0873\n",
      "  80000 /   200000 :: 2.2595\n",
      "  90000 /   200000 :: 2.1146\n",
      " 100000 /   200000 :: 1.8817\n",
      " 110000 /   200000 :: 2.1622\n",
      " 120000 /   200000 :: 1.8919\n",
      " 130000 /   200000 :: 2.3128\n",
      " 140000 /   200000 :: 2.3481\n",
      " 150000 /   200000 :: 2.1759\n",
      " 160000 /   200000 :: 1.8034\n",
      " 170000 /   200000 :: 1.7760\n",
      " 180000 /   200000 :: 1.8991\n",
      " 190000 /   200000 :: 1.8666\n"
     ]
    },
    {
     "data": {
      "text/plain": [
       "[<matplotlib.lines.Line2D at 0x13967d7c0>]"
      ]
     },
     "execution_count": 59,
     "metadata": {},
     "output_type": "execute_result"
    },
    {
     "data": {
      "image/png": "[encoded data removed]",
      "text/plain": [
       "<Figure size 640x480 with 1 Axes>"
      ]
     },
     "metadata": {},
     "output_type": "display_data"
    }
   ],
   "source": [
    "# MLP parameters\n",
    "\n",
    "g = torch.Generator().manual_seed(2147483647)\n",
    "\n",
    "n_embedd = 10 # Embedding dim\n",
    "C = torch.randn((vocab_size, n_embedd), generator=g) # Lookup matrix for embedding\n",
    "block_size = 3\n",
    "\n",
    "n_hidden = 200\n",
    "\n",
    "# Layer 1\n",
    "W1 = torch.randn((n_embedd * block_size, n_hidden), generator=g) * 0.1\n",
    "b1 = torch.randn(n_hidden, generator=g) * 0.01\n",
    "\n",
    "# Layer 2\n",
    "W2 = torch.randn((n_hidden, vocab_size), generator=g) * 0.01 # We want logits to be close to zero. So scaling down weights and removing bias\n",
    "b2 = torch.randn(vocab_size, generator=g) * 0\n",
    "\n",
    "parameters = [C, W1, b1, W2, b2]\n",
    "print(\"Total number of parameters : \", sum(p.nelement() for p in parameters))\n",
    "\n",
    "for p in parameters:\n",
    "    p.requires_grad = True\n",
    "\n",
    "# Training\n",
    "\n",
    "max_steps = 200000\n",
    "batch_size = 32\n",
    "lossi = [] # training loss in each step\n",
    "\n",
    "for i in range(max_steps):\n",
    "\n",
    "    # mini batch construct\n",
    "    ix = torch.randint(0, Xtr.shape[0], (batch_size,), generator=g)\n",
    "    Xb, Yb = Xtr[ix], Ytr[ix]\n",
    "\n",
    "    # forward pass\n",
    "    emb = C[Xb]\n",
    "    embcat = emb.view(emb.shape[0], -1)\n",
    "    hpreact = embcat @ W1 + b1\n",
    "    h = torch.tanh(hpreact) # hidden layer out\n",
    "    logits = h @ W2 + b2 # output layer\n",
    "\n",
    "    loss = F.cross_entropy(logits, Yb) #loss function\n",
    "\n",
    "    # backward pass\n",
    "    for p in parameters:\n",
    "        p.grad = None\n",
    "    \n",
    "    loss.backward()\n",
    "\n",
    "    # Update the parameters\n",
    "    lr = 0.1 if i < 100000 else 0.01\n",
    "    for p in parameters:\n",
    "        p.data += -lr * p.grad\n",
    "    \n",
    "    # track the stats\n",
    "    if i % 10000 == 0:\n",
    "        print(f'{i:7d} /  {max_steps:7d} :: {loss.item():.4f}')\n",
    "    \n",
    "        lossi.append(loss.log10().item())\n",
    "\n",
    "\n",
    "plt.plot(lossi)"
   ]
  },
  {
   "cell_type": "code",
   "execution_count": 60,
   "id": "d910561f",
   "metadata": {},
   "outputs": [
    {
     "name": "stdout",
     "output_type": "stream",
     "text": [
      "train  loss :  2.05790114402771\n",
      "dev  loss :  2.113706588745117\n",
      "test  loss :  2.1124987602233887\n"
     ]
    }
   ],
   "source": [
    "@torch.no_grad\n",
    "def split_loss(split):\n",
    "\n",
    "    x, y = {\n",
    "        'train' : (Xtr, Ytr),\n",
    "        'dev' : (Xdev, Ydev),\n",
    "        'test' : (Xtest, Ytest)\n",
    "    }[split]\n",
    "\n",
    "    emb = C[x]\n",
    "    embcat = emb.view(x.shape[0], -1)\n",
    "    h = torch.tanh(embcat @ W1 + b1)\n",
    "    logits = h @ W2 + b2\n",
    "    loss = F.cross_entropy(logits, y)\n",
    "    print(split, ' loss : ', loss.item())\n",
    "\n",
    "split_loss('train')\n",
    "split_loss('dev')\n",
    "split_loss('test')\n"
   ]
  },
  {
   "cell_type": "code",
   "execution_count": null,
   "id": "72d11d39",
   "metadata": {},
   "outputs": [],
   "source": []
  }
 ],
 "metadata": {
  "kernelspec": {
   "display_name": "make-more",
   "language": "python",
   "name": "python3"
  },
  "language_info": {
   "codemirror_mode": {
    "name": "ipython",
    "version": 3
   },
   "file_extension": ".py",
   "mimetype": "text/x-python",
   "name": "python",
   "nbconvert_exporter": "python",
   "pygments_lexer": "ipython3",
   "version": "3.12.8"
  }
 },
 "nbformat": 4,
 "nbformat_minor": 5
}
