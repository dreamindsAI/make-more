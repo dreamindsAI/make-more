{
 "cells": [
  {
   "cell_type": "code",
   "execution_count": null,
   "metadata": {},
   "outputs": [],
   "source": []
  },
  {
   "cell_type": "code",
   "execution_count": 12,
   "metadata": {},
   "outputs": [
    {
     "data": {
      "text/plain": [
       "(['ഀ', 'ഁ', 'ം', 'ഃ', 'ഄ', 'അ', 'ആ', 'ഇ', 'ഈ', 'ഉ'],\n",
       " ['൶', '൷', '൸', '൹', 'ൺ', 'ൻ', 'ർ', 'ൽ', 'ൾ', 'ൿ'],\n",
       " 128)"
      ]
     },
     "execution_count": 12,
     "metadata": {},
     "output_type": "execute_result"
    }
   ],
   "source": [
    "# Collecting all the malayalam chars\n",
    "malayalam_chars = [chr(code) for code in range(0x0D00, 0x0D7F + 1)]\n",
    "malayalam_chars[:10], malayalam_chars[-10:], len(malayalam_chars)"
   ]
  },
  {
   "cell_type": "code",
   "execution_count": null,
   "metadata": {},
   "outputs": [],
   "source": [
    "# Creating a new mapping starting from 256 to encode all malayalam chars\n",
    "malayalam_chars_vocab = {256+i: list(char.encode(\"utf-8\"))  for i, char in enumerate(malayalam_chars)}"
   ]
  },
  {
   "cell_type": "code",
   "execution_count": 20,
   "metadata": {},
   "outputs": [],
   "source": [
    "def get_stats(ids: list[int]) -> dict[tuple[int, int], int]:\n",
    "    \"\"\"Takes a list of ints and find the occurance of each pair\"\"\"\n",
    "    counts = {}\n",
    "    for pair in zip(ids, ids[1:]):\n",
    "        counts[pair] = counts.get(pair, 0) + 1\n",
    "    return counts\n",
    "\n",
    "def get_top_pair(stats: dict) -> tuple[int, int]:\n",
    "    \"\"\"Find the most occuring pair\"\"\"\n",
    "    return max(stats, key=stats.get)"
   ]
  },
  {
   "cell_type": "code",
   "execution_count": null,
   "metadata": {},
   "outputs": [],
   "source": [
    "def update_ids(ids: list[int], malayalam_chars_vocab) -> list[int]:\n",
    "    \"\"\"Merge the ids to new ids corresponding to malayalam_chars_vocab\"\"\"\n",
    "    merged_tokens = []\n",
    "    i = 0\n",
    "    while i < len(tokens):\n",
    "        if i < len(tokens)-1 and (tokens[i], tokens[i+1]) == pair_to_merge:\n",
    "            merged_tokens.append(new_idx)\n",
    "            i += 2\n",
    "        else:\n",
    "            merged_tokens.append(tokens[i])\n",
    "            i += 1\n",
    "    return merged_tokens\n"
   ]
  }
 ],
 "metadata": {
  "kernelspec": {
   "display_name": "make-more",
   "language": "python",
   "name": "python3"
  },
  "language_info": {
   "codemirror_mode": {
    "name": "ipython",
    "version": 3
   },
   "file_extension": ".py",
   "mimetype": "text/x-python",
   "name": "python",
   "nbconvert_exporter": "python",
   "pygments_lexer": "ipython3",
   "version": "3.12.8"
  }
 },
 "nbformat": 4,
 "nbformat_minor": 2
}
