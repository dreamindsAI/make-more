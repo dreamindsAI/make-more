{
 "cells": [
  {
   "cell_type": "code",
   "execution_count": 9,
   "id": "0830844c",
   "metadata": {},
   "outputs": [
    {
     "data": {
      "text/plain": [
       "['emma', 'olivia', 'ava']"
      ]
     },
     "execution_count": 9,
     "metadata": {},
     "output_type": "execute_result"
    }
   ],
   "source": [
    "with open('names.txt', 'r') as f:\n",
    "    words = f.read().split()\n",
    "\n",
    "words[:3]"
   ]
  },
  {
   "cell_type": "code",
   "execution_count": 10,
   "id": "984278aa",
   "metadata": {},
   "outputs": [],
   "source": [
    "stoi = {s:i+1 for i,s in enumerate(sorted(list(set(''.join(words)))))}\n",
    "stoi['.'] = 0\n",
    "itos = {i:s for s,i in stoi.items()}"
   ]
  },
  {
   "cell_type": "code",
   "execution_count": 11,
   "id": "9697865e",
   "metadata": {},
   "outputs": [],
   "source": [
    "import torch"
   ]
  },
  {
   "cell_type": "code",
   "execution_count": 17,
   "id": "cbe8aecb",
   "metadata": {},
   "outputs": [
    {
     "name": "stdout",
     "output_type": "stream",
     "text": [
      "emma\n",
      "...  ----->  e\n",
      "..e  ----->  m\n",
      ".em  ----->  m\n",
      "emm  ----->  a\n",
      "mma  ----->  .\n",
      "olivia\n",
      "...  ----->  o\n",
      "..o  ----->  l\n",
      ".ol  ----->  i\n",
      "oli  ----->  v\n",
      "liv  ----->  i\n",
      "ivi  ----->  a\n",
      "via  ----->  .\n",
      "ava\n",
      "...  ----->  a\n",
      "..a  ----->  v\n",
      ".av  ----->  a\n",
      "ava  ----->  .\n",
      "isabella\n",
      "...  ----->  i\n",
      "..i  ----->  s\n",
      ".is  ----->  a\n",
      "isa  ----->  b\n",
      "sab  ----->  e\n",
      "abe  ----->  l\n",
      "bel  ----->  l\n",
      "ell  ----->  a\n",
      "lla  ----->  .\n",
      "sophia\n",
      "...  ----->  s\n",
      "..s  ----->  o\n",
      ".so  ----->  p\n",
      "sop  ----->  h\n",
      "oph  ----->  i\n",
      "phi  ----->  a\n",
      "hia  ----->  .\n"
     ]
    }
   ],
   "source": [
    "# build the dataset\n",
    "# 3 character (block_size) used to predict the 4th one\n",
    "\n",
    "block_size  = 3 # context length : how many characters do we need to predict the next one?\n",
    "\n",
    "X, Y = [], []\n",
    "\n",
    "for w in words[:5]:\n",
    "    print(w)\n",
    "    context = [0] * block_size\n",
    "    for ch in w + '.':\n",
    "        X.append(context)\n",
    "        ix = stoi[ch]\n",
    "        Y.append(ix)\n",
    "        print(''.join(itos[i] for i in context), ' -----> ', itos[ix])\n",
    "        context = context[1:] + [ix]\n",
    "\n",
    "\n",
    "X = torch.tensor(X)\n",
    "Y = torch.tensor(Y)"
   ]
  },
  {
   "cell_type": "code",
   "execution_count": 18,
   "id": "e1c584b4",
   "metadata": {},
   "outputs": [
    {
     "data": {
      "text/plain": [
       "(torch.Size([32, 3]), torch.Size([32]), torch.int64, torch.int64)"
      ]
     },
     "execution_count": 18,
     "metadata": {},
     "output_type": "execute_result"
    }
   ],
   "source": [
    "X.shape, Y.shape, X.dtype, Y.dtype"
   ]
  },
  {
   "cell_type": "code",
   "execution_count": 20,
   "id": "5da1dba8",
   "metadata": {},
   "outputs": [],
   "source": [
    "# Look up table for embbedings\n",
    "\n",
    "C = torch.randn((27, 2))"
   ]
  },
  {
   "cell_type": "code",
   "execution_count": 21,
   "id": "f8515624",
   "metadata": {},
   "outputs": [
    {
     "data": {
      "text/plain": [
       "torch.Size([32, 3, 2])"
      ]
     },
     "execution_count": 21,
     "metadata": {},
     "output_type": "execute_result"
    }
   ],
   "source": [
    "emb = C[X]\n",
    "emb.shape"
   ]
  },
  {
   "cell_type": "code",
   "execution_count": 23,
   "id": "19fd0400",
   "metadata": {},
   "outputs": [
    {
     "data": {
      "text/plain": [
       "tensor([[ 0.0062, -1.3273],\n",
       "        [ 0.0062, -1.3273],\n",
       "        [ 0.0062, -1.3273]])"
      ]
     },
     "execution_count": 23,
     "metadata": {},
     "output_type": "execute_result"
    }
   ],
   "source": [
    "emb[0]"
   ]
  },
  {
   "cell_type": "code",
   "execution_count": 24,
   "id": "6b194f84",
   "metadata": {},
   "outputs": [
    {
     "data": {
      "text/plain": [
       "tensor([ 0.0062, -1.3273])"
      ]
     },
     "execution_count": 24,
     "metadata": {},
     "output_type": "execute_result"
    }
   ],
   "source": [
    "C[0]"
   ]
  },
  {
   "cell_type": "code",
   "execution_count": null,
   "id": "a70e23ea",
   "metadata": {},
   "outputs": [],
   "source": []
  }
 ],
 "metadata": {
  "kernelspec": {
   "display_name": "make-more",
   "language": "python",
   "name": "python3"
  },
  "language_info": {
   "codemirror_mode": {
    "name": "ipython",
    "version": 3
   },
   "file_extension": ".py",
   "mimetype": "text/x-python",
   "name": "python",
   "nbconvert_exporter": "python",
   "pygments_lexer": "ipython3",
   "version": "3.12.8"
  }
 },
 "nbformat": 4,
 "nbformat_minor": 5
}
